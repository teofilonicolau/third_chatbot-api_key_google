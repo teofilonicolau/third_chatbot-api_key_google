{
  "nbformat": 4,
  "nbformat_minor": 0,
  "metadata": {
    "colab": {
      "provenance": [],
      "toc_visible": true,
      "mount_file_id": "1uE58l98opOYzRLNHOpvejAYxNqSjfL2D",
      "authorship_tag": "ABX9TyMX/Vqrfw4Znsfiw5i1awG1",
      "include_colab_link": true
    },
    "kernelspec": {
      "name": "python3",
      "display_name": "Python 3"
    },
    "language_info": {
      "name": "python"
    },
    "widgets": {
      "application/vnd.jupyter.widget-state+json": {
        "c214429d231d41a5b150a77ec439bf48": {
          "model_module": "@jupyter-widgets/controls",
          "model_name": "TextModel",
          "model_module_version": "1.5.0",
          "state": {
            "_dom_classes": [],
            "_model_module": "@jupyter-widgets/controls",
            "_model_module_version": "1.5.0",
            "_model_name": "TextModel",
            "_view_count": null,
            "_view_module": "@jupyter-widgets/controls",
            "_view_module_version": "1.5.0",
            "_view_name": "TextView",
            "continuous_update": true,
            "description": "",
            "description_tooltip": null,
            "disabled": false,
            "layout": "IPY_MODEL_4c1a365954e64d53a7f90cf29de22e3a",
            "placeholder": "Digite sua pergunta",
            "style": "IPY_MODEL_6eb9fd59b8684183a4bc5f662b10b5e3",
            "value": ""
          }
        },
        "4c1a365954e64d53a7f90cf29de22e3a": {
          "model_module": "@jupyter-widgets/base",
          "model_name": "LayoutModel",
          "model_module_version": "1.2.0",
          "state": {
            "_model_module": "@jupyter-widgets/base",
            "_model_module_version": "1.2.0",
            "_model_name": "LayoutModel",
            "_view_count": null,
            "_view_module": "@jupyter-widgets/base",
            "_view_module_version": "1.2.0",
            "_view_name": "LayoutView",
            "align_content": null,
            "align_items": null,
            "align_self": null,
            "border": null,
            "bottom": null,
            "display": null,
            "flex": null,
            "flex_flow": null,
            "grid_area": null,
            "grid_auto_columns": null,
            "grid_auto_flow": null,
            "grid_auto_rows": null,
            "grid_column": null,
            "grid_gap": null,
            "grid_row": null,
            "grid_template_areas": null,
            "grid_template_columns": null,
            "grid_template_rows": null,
            "height": null,
            "justify_content": null,
            "justify_items": null,
            "left": null,
            "margin": null,
            "max_height": null,
            "max_width": null,
            "min_height": null,
            "min_width": null,
            "object_fit": null,
            "object_position": null,
            "order": null,
            "overflow": null,
            "overflow_x": null,
            "overflow_y": null,
            "padding": null,
            "right": null,
            "top": null,
            "visibility": null,
            "width": null
          }
        },
        "6eb9fd59b8684183a4bc5f662b10b5e3": {
          "model_module": "@jupyter-widgets/controls",
          "model_name": "DescriptionStyleModel",
          "model_module_version": "1.5.0",
          "state": {
            "_model_module": "@jupyter-widgets/controls",
            "_model_module_version": "1.5.0",
            "_model_name": "DescriptionStyleModel",
            "_view_count": null,
            "_view_module": "@jupyter-widgets/base",
            "_view_module_version": "1.2.0",
            "_view_name": "StyleView",
            "description_width": ""
          }
        },
        "f7d00edbc5f84561a241626eb4bc2c80": {
          "model_module": "@jupyter-widgets/controls",
          "model_name": "ButtonModel",
          "model_module_version": "1.5.0",
          "state": {
            "_dom_classes": [],
            "_model_module": "@jupyter-widgets/controls",
            "_model_module_version": "1.5.0",
            "_model_name": "ButtonModel",
            "_view_count": null,
            "_view_module": "@jupyter-widgets/controls",
            "_view_module_version": "1.5.0",
            "_view_name": "ButtonView",
            "button_style": "",
            "description": "Enviar",
            "disabled": false,
            "icon": "",
            "layout": "IPY_MODEL_6d8b07dead404650bcc39abe1e93f534",
            "style": "IPY_MODEL_6ed609b436584efabc257d8c76890ff5",
            "tooltip": ""
          }
        },
        "6d8b07dead404650bcc39abe1e93f534": {
          "model_module": "@jupyter-widgets/base",
          "model_name": "LayoutModel",
          "model_module_version": "1.2.0",
          "state": {
            "_model_module": "@jupyter-widgets/base",
            "_model_module_version": "1.2.0",
            "_model_name": "LayoutModel",
            "_view_count": null,
            "_view_module": "@jupyter-widgets/base",
            "_view_module_version": "1.2.0",
            "_view_name": "LayoutView",
            "align_content": null,
            "align_items": null,
            "align_self": null,
            "border": null,
            "bottom": null,
            "display": null,
            "flex": null,
            "flex_flow": null,
            "grid_area": null,
            "grid_auto_columns": null,
            "grid_auto_flow": null,
            "grid_auto_rows": null,
            "grid_column": null,
            "grid_gap": null,
            "grid_row": null,
            "grid_template_areas": null,
            "grid_template_columns": null,
            "grid_template_rows": null,
            "height": null,
            "justify_content": null,
            "justify_items": null,
            "left": null,
            "margin": null,
            "max_height": null,
            "max_width": null,
            "min_height": null,
            "min_width": null,
            "object_fit": null,
            "object_position": null,
            "order": null,
            "overflow": null,
            "overflow_x": null,
            "overflow_y": null,
            "padding": null,
            "right": null,
            "top": null,
            "visibility": null,
            "width": null
          }
        },
        "6ed609b436584efabc257d8c76890ff5": {
          "model_module": "@jupyter-widgets/controls",
          "model_name": "ButtonStyleModel",
          "model_module_version": "1.5.0",
          "state": {
            "_model_module": "@jupyter-widgets/controls",
            "_model_module_version": "1.5.0",
            "_model_name": "ButtonStyleModel",
            "_view_count": null,
            "_view_module": "@jupyter-widgets/base",
            "_view_module_version": "1.2.0",
            "_view_name": "StyleView",
            "button_color": null,
            "font_weight": ""
          }
        },
        "cee73d8caf0f4bada7462d7c7f68848d": {
          "model_module": "@jupyter-widgets/output",
          "model_name": "OutputModel",
          "model_module_version": "1.0.0",
          "state": {
            "_dom_classes": [],
            "_model_module": "@jupyter-widgets/output",
            "_model_module_version": "1.0.0",
            "_model_name": "OutputModel",
            "_view_count": null,
            "_view_module": "@jupyter-widgets/output",
            "_view_module_version": "1.0.0",
            "_view_name": "OutputView",
            "layout": "IPY_MODEL_5c996d3933c148969fc06f7c0b5fb64c",
            "msg_id": "",
            "outputs": [
              {
                "output_type": "stream",
                "name": "stdout",
                "text": [
                  "Eita, bichim! Olha só o que eu descobri: Olá, seja muito bem-vindo(a) a Icó, a \"Terra do Sol\"!\n",
                  "\n",
                  "Icó é um município localizado no sertão central cearense, famoso por sua rica história, belezas naturais e calor humano.\n",
                  "\n",
                  "**História**\n",
                  "Icó possui uma história fascinante que remonta aos primórdios do Brasil colonial. Foi fundada em 1736 como um entreposto comercial, e serviu como importante ponto de passagem para viajantes e tropeiros. Seu nome vem do tupi-guarani e significa \"água corrente\", uma referência ao Rio Icó que corta a cidade.\n",
                  "\n",
                  "**Belezas Naturais**\n",
                  "Icó é abençoada com paisagens deslumbrantes. Um dos destaques é o Parque Nacional do Ubajara, que abriga a Gruta de Ubajara, um sistema de cavernas com formações rochosas impressionantes. Outra atração é o Açude Orós, um imenso reservatório que oferece oportunidades para pesca, esportes náuticos e observação da vida selvagem.\n",
                  "\n",
                  "**Cultura e Tradições**\n",
                  "Icó é conhecida por sua forte cultura e tradições. A cidade é berço do ritmo musical \"forró pé-de-serra\", que anima as festas locais. Além disso, possui diversos grupos folclóricos que preservam manifestações culturais como o bumba meu boi e a quadrilha junina.\n",
                  "\n",
                  "**Acolhimento**\n",
                  "O povo de Icó é caloroso e acolhedor, sempre disposto a receber visitantes de braços abertos. Você se sentirá em casa em nossa cidade, onde a hospitalidade é uma marca registrada.\n",
                  "\n",
                  "**Dicas de Passeio**\n",
                  "Não deixe de visitar:\n",
                  "\n",
                  "* Gruta de Ubajara\n",
                  "* Açude Orós\n",
                  "* Centro Histórico de Icó\n",
                  "* Museu de Arte Sacra\n",
                  "* Mercado Público\n",
                  "\n",
                  "Estamos ansiosos para recebê-lo(a) em Icó e compartilhar a beleza e a riqueza cultural de nossa cidade. Aproveite sua estadia!\n"
                ]
              },
              {
                "output_type": "display_data",
                "data": {
                  "text/plain": "Image(value=b'\\x89PNG\\r\\n\\x1a\\n\\x00\\x00\\x00\\rIHDR\\x00\\x00\\x01,\\x00\\x00\\x00\\xc8\\x08\\x02\\x00\\x00\\x00\\xdd\\xbdK\\x0…",
                  "application/vnd.jupyter.widget-view+json": {
                    "version_major": 2,
                    "version_minor": 0,
                    "model_id": "c1227bd6ee9145f9857e8c161ae65b34"
                  }
                },
                "metadata": {}
              }
            ]
          }
        },
        "5c996d3933c148969fc06f7c0b5fb64c": {
          "model_module": "@jupyter-widgets/base",
          "model_name": "LayoutModel",
          "model_module_version": "1.2.0",
          "state": {
            "_model_module": "@jupyter-widgets/base",
            "_model_module_version": "1.2.0",
            "_model_name": "LayoutModel",
            "_view_count": null,
            "_view_module": "@jupyter-widgets/base",
            "_view_module_version": "1.2.0",
            "_view_name": "LayoutView",
            "align_content": null,
            "align_items": null,
            "align_self": null,
            "border": null,
            "bottom": null,
            "display": null,
            "flex": null,
            "flex_flow": null,
            "grid_area": null,
            "grid_auto_columns": null,
            "grid_auto_flow": null,
            "grid_auto_rows": null,
            "grid_column": null,
            "grid_gap": null,
            "grid_row": null,
            "grid_template_areas": null,
            "grid_template_columns": null,
            "grid_template_rows": null,
            "height": null,
            "justify_content": null,
            "justify_items": null,
            "left": null,
            "margin": null,
            "max_height": null,
            "max_width": null,
            "min_height": null,
            "min_width": null,
            "object_fit": null,
            "object_position": null,
            "order": null,
            "overflow": null,
            "overflow_x": null,
            "overflow_y": null,
            "padding": null,
            "right": null,
            "top": null,
            "visibility": null,
            "width": null
          }
        },
        "c1227bd6ee9145f9857e8c161ae65b34": {
          "model_module": "@jupyter-widgets/controls",
          "model_name": "ImageModel",
          "model_module_version": "1.5.0",
          "state": {
            "_dom_classes": [],
            "_model_module": "@jupyter-widgets/controls",
            "_model_module_version": "1.5.0",
            "_model_name": "ImageModel",
            "_view_count": null,
            "_view_module": "@jupyter-widgets/controls",
            "_view_module_version": "1.5.0",
            "_view_name": "ImageView",
            "format": "png",
            "height": "",
            "layout": "IPY_MODEL_72f073dab5dc40d48d003fb48855bc6b",
            "width": ""
          }
        },
        "72f073dab5dc40d48d003fb48855bc6b": {
          "model_module": "@jupyter-widgets/base",
          "model_name": "LayoutModel",
          "model_module_version": "1.2.0",
          "state": {
            "_model_module": "@jupyter-widgets/base",
            "_model_module_version": "1.2.0",
            "_model_name": "LayoutModel",
            "_view_count": null,
            "_view_module": "@jupyter-widgets/base",
            "_view_module_version": "1.2.0",
            "_view_name": "LayoutView",
            "align_content": null,
            "align_items": null,
            "align_self": null,
            "border": null,
            "bottom": null,
            "display": null,
            "flex": null,
            "flex_flow": null,
            "grid_area": null,
            "grid_auto_columns": null,
            "grid_auto_flow": null,
            "grid_auto_rows": null,
            "grid_column": null,
            "grid_gap": null,
            "grid_row": null,
            "grid_template_areas": null,
            "grid_template_columns": null,
            "grid_template_rows": null,
            "height": null,
            "justify_content": null,
            "justify_items": null,
            "left": null,
            "margin": null,
            "max_height": null,
            "max_width": null,
            "min_height": null,
            "min_width": null,
            "object_fit": null,
            "object_position": null,
            "order": null,
            "overflow": null,
            "overflow_x": null,
            "overflow_y": null,
            "padding": null,
            "right": null,
            "top": null,
            "visibility": null,
            "width": null
          }
        }
      }
    }
  },
  "cells": [
    {
      "cell_type": "markdown",
      "metadata": {
        "id": "view-in-github",
        "colab_type": "text"
      },
      "source": [
        "<a href=\"https://colab.research.google.com/github/teofilonicolau/third_chatbot-api_key_google/blob/main/ChatbotGemini.ipynb\" target=\"_parent\"><img src=\"https://colab.research.google.com/assets/colab-badge.svg\" alt=\"Open In Colab\"/></a>"
      ]
    },
    {
      "cell_type": "code",
      "execution_count": 13,
      "metadata": {
        "colab": {
          "base_uri": "https://localhost:8080/",
          "height": 914,
          "referenced_widgets": [
            "c214429d231d41a5b150a77ec439bf48",
            "4c1a365954e64d53a7f90cf29de22e3a",
            "6eb9fd59b8684183a4bc5f662b10b5e3",
            "f7d00edbc5f84561a241626eb4bc2c80",
            "6d8b07dead404650bcc39abe1e93f534",
            "6ed609b436584efabc257d8c76890ff5",
            "cee73d8caf0f4bada7462d7c7f68848d",
            "5c996d3933c148969fc06f7c0b5fb64c",
            "c1227bd6ee9145f9857e8c161ae65b34",
            "72f073dab5dc40d48d003fb48855bc6b"
          ]
        },
        "id": "_nbBAxg-WEjx",
        "outputId": "ea3f05ea-fab5-4e84-9bd7-53a4e6bfef6d"
      },
      "outputs": [
        {
          "output_type": "stream",
          "name": "stdout",
          "text": [
            "Requirement already satisfied: Pillow in /usr/local/lib/python3.10/dist-packages (9.4.0)\n"
          ]
        },
        {
          "output_type": "display_data",
          "data": {
            "text/plain": [
              "Text(value='', placeholder='Digite sua pergunta')"
            ],
            "application/vnd.jupyter.widget-view+json": {
              "version_major": 2,
              "version_minor": 0,
              "model_id": "c214429d231d41a5b150a77ec439bf48"
            }
          },
          "metadata": {}
        },
        {
          "output_type": "display_data",
          "data": {
            "text/plain": [
              "Button(description='Enviar', style=ButtonStyle())"
            ],
            "application/vnd.jupyter.widget-view+json": {
              "version_major": 2,
              "version_minor": 0,
              "model_id": "f7d00edbc5f84561a241626eb4bc2c80"
            }
          },
          "metadata": {}
        },
        {
          "output_type": "display_data",
          "data": {
            "text/plain": [
              "Output()"
            ],
            "application/vnd.jupyter.widget-view+json": {
              "version_major": 2,
              "version_minor": 0,
              "model_id": "cee73d8caf0f4bada7462d7c7f68848d"
            }
          },
          "metadata": {}
        }
      ],
      "source": [
        "!pip install -q -U google-generativeai\n",
        "!pip install Pillow\n",
        "\n",
        "from google.colab import userdata\n",
        "import ipywidgets as widgets\n",
        "from PIL import Image\n",
        "from io import BytesIO\n",
        "import requests\n",
        "\n",
        "api_key = userdata.get('SECRET_KEY')\n",
        "genai.configure(api_key=api_key)\n",
        "\n",
        "model = genai.GenerativeModel(model_name=\"gemini-pro\")\n",
        "chat = model.start_chat(history=[])\n",
        "\n",
        "def processar_pergunta(pergunta):\n",
        "  prompt = f\"Você é um guia turístico de Icó, Ceará. Responda de forma informativa e acolhedora: O que você pode me contar sobre {pergunta} em Icó?\"\n",
        "  response = model.generate_content(prompt)\n",
        "  resposta = response.text\n",
        "  return resposta\n",
        "\n",
        "def exibir_imagem(url_imagem):\n",
        "  try:\n",
        "    resposta = requests.get(url_imagem)\n",
        "    resposta.raise_for_status()\n",
        "    imagem = Image.open(BytesIO(resposta.content))\n",
        "    imagem = imagem.resize((300, 200))\n",
        "    buffer = BytesIO()\n",
        "    imagem.save(buffer, format='PNG')\n",
        "    return widgets.Image(value=buffer.getvalue())\n",
        "  except requests.exceptions.RequestException as e:\n",
        "    print(f\"Erro ao baixar imagem: {e}\")\n",
        "    return widgets.Label(value=\"Erro ao carregar imagem.\")\n",
        "\n",
        "def formatar_resposta(resposta):\n",
        "  global pergunta\n",
        "  resposta_completa = processar_pergunta(pergunta)\n",
        "  resposta_formatada = f\"Eita, bichim! Olha só o que eu descobri: {resposta_completa}\"\n",
        "\n",
        "  link_imagem = \"https://drive.google.com/uc?id=1PAsY7ogNKBf6NVLBC2cUsLHyQIaTrtDJ\"\n",
        "  imagem = exibir_imagem(link_imagem)\n",
        "\n",
        "  return resposta_formatada, imagem\n",
        "\n",
        "output_area = widgets.Output()\n",
        "input_pergunta = widgets.Text(placeholder=\"Digite sua pergunta\")\n",
        "botao_enviar = widgets.Button(description=\"Enviar\")\n",
        "\n",
        "def mostrar_resposta(pergunta):\n",
        "  with output_area:\n",
        "    output_area.clear_output()\n",
        "    resposta, imagem = formatar_resposta(pergunta)\n",
        "    print(resposta)\n",
        "    display(imagem)\n",
        "\n",
        "def on_button_clicked(b):\n",
        "  global pergunta\n",
        "  pergunta = input_pergunta.value\n",
        "  input_pergunta.value = \"\"\n",
        "  if pergunta.lower() == \"fim\":\n",
        "    print(\"Valeu por visitar Icó! Volte sempre! 👋\")\n",
        "  else:\n",
        "    mostrar_resposta(pergunta)\n",
        "\n",
        "botao_enviar.on_click(on_button_clicked)\n",
        "display(input_pergunta, botao_enviar, output_area)"
      ]
    },
    {
      "cell_type": "markdown",
      "source": [
        "# New Section"
      ],
      "metadata": {
        "id": "udAFl7JHI3Wa"
      }
    }
  ]
}